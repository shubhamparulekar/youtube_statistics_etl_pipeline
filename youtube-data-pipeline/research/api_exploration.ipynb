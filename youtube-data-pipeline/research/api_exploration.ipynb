{
 "cells": [
  {
   "cell_type": "code",
   "execution_count": 30,
   "id": "a097b448",
   "metadata": {},
   "outputs": [
    {
     "name": "stdout",
     "output_type": "stream",
     "text": [
      "API key loaded successfully\n"
     ]
    }
   ],
   "source": [
    "import os\n",
    "from dotenv import load_dotenv\n",
    "from googleapiclient.discovery import build\n",
    "import pandas as pd\n",
    "import json\n",
    "\n",
    "load_dotenv()\n",
    "api_key = os.getenv('YOUTUBE_API_KEY')\n",
    "\n",
    "if not api_key:\n",
    "    print(\"API key not found. Check your .env file\")\n",
    "else:\n",
    "    print(\"API key loaded successfully\")\n",
    "    youtube = build('youtube', 'v3', developerKey=api_key)"
   ]
  },
  {
   "cell_type": "code",
   "execution_count": 31,
   "id": "68b96992",
   "metadata": {},
   "outputs": [],
   "source": [
    "# Test basic search\n",
    "request = youtube.search().list(\n",
    "    q='data science',\n",
    "    part='snippet',\n",
    "    maxResults=3\n",
    ")\n",
    "\n",
    "response = request.execute()\n"
   ]
  },
  {
   "cell_type": "code",
   "execution_count": 44,
   "id": "e7d5e6ad",
   "metadata": {},
   "outputs": [
    {
     "data": {
      "text/plain": [
       "{'kind': 'youtube#searchListResponse',\n",
       " 'etag': 'ptbDvkZCtGBSLFFpO67k8_KCEkM',\n",
       " 'nextPageToken': 'CAMQAA',\n",
       " 'regionCode': 'US',\n",
       " 'pageInfo': {'totalResults': 1000000, 'resultsPerPage': 3},\n",
       " 'items': [{'kind': 'youtube#searchResult',\n",
       "   'etag': '30R3NGvaVteMYqTh6kPdz3jmDQE',\n",
       "   'id': {'kind': 'youtube#channel', 'channelId': 'UCEBpSZhI1X8WaP-kY_2LLcg'},\n",
       "   'snippet': {'publishedAt': '2017-08-07T15:17:05Z',\n",
       "    'channelId': 'UCEBpSZhI1X8WaP-kY_2LLcg',\n",
       "    'title': '365 Data Science',\n",
       "    'description': 'At 365 Data Science we make #DataScience accessible to all by providing the highest quality online data science education.',\n",
       "    'thumbnails': {'default': {'url': 'https://yt3.ggpht.com/-YcMhCGqQL5RY85jbwN7pw1Axda_dTemcKR-deDb_nV-ocr7eKeGpTzOn94yAQw1Yj9nEyQORdY=s88-c-k-c0xffffffff-no-rj-mo'},\n",
       "     'medium': {'url': 'https://yt3.ggpht.com/-YcMhCGqQL5RY85jbwN7pw1Axda_dTemcKR-deDb_nV-ocr7eKeGpTzOn94yAQw1Yj9nEyQORdY=s240-c-k-c0xffffffff-no-rj-mo'},\n",
       "     'high': {'url': 'https://yt3.ggpht.com/-YcMhCGqQL5RY85jbwN7pw1Axda_dTemcKR-deDb_nV-ocr7eKeGpTzOn94yAQw1Yj9nEyQORdY=s800-c-k-c0xffffffff-no-rj-mo'}},\n",
       "    'channelTitle': '365 Data Science',\n",
       "    'liveBroadcastContent': 'none',\n",
       "    'publishTime': '2017-08-07T15:17:05Z'}},\n",
       "  {'kind': 'youtube#searchResult',\n",
       "   'etag': 'mbUoe34oSzSuNwhW314MR_oCuNI',\n",
       "   'id': {'kind': 'youtube#video', 'videoId': 'RBSUwFGa6Fk'},\n",
       "   'snippet': {'publishedAt': '2022-06-13T12:00:14Z',\n",
       "    'channelId': 'UCKWaEZ-_VweaEx1j62do_vQ',\n",
       "    'title': 'What is Data Science?',\n",
       "    'description': 'Want a career in Data Science? Start here → https://ibm.biz/BdK65F Data Science touches almost every operation of a business.',\n",
       "    'thumbnails': {'default': {'url': 'https://i.ytimg.com/vi/RBSUwFGa6Fk/default.jpg',\n",
       "      'width': 120,\n",
       "      'height': 90},\n",
       "     'medium': {'url': 'https://i.ytimg.com/vi/RBSUwFGa6Fk/mqdefault.jpg',\n",
       "      'width': 320,\n",
       "      'height': 180},\n",
       "     'high': {'url': 'https://i.ytimg.com/vi/RBSUwFGa6Fk/hqdefault.jpg',\n",
       "      'width': 480,\n",
       "      'height': 360}},\n",
       "    'channelTitle': 'IBM Technology',\n",
       "    'liveBroadcastContent': 'none',\n",
       "    'publishTime': '2022-06-13T12:00:14Z'}},\n",
       "  {'kind': 'youtube#searchResult',\n",
       "   'etag': 'LJmBNekNxY6rMYpmeCR4HoEQh3s',\n",
       "   'id': {'kind': 'youtube#video', 'videoId': 'FsSrzmRawUg'},\n",
       "   'snippet': {'publishedAt': '2019-06-06T05:19:06Z',\n",
       "    'channelId': 'UCm5mt-A4w61lknZ9lCsZtBw',\n",
       "    'title': 'Intro to Data Science: What is Data Science?',\n",
       "    'description': 'This lecture provides an overview of the various components of data science, including data collection, cleaning, and curation, ...',\n",
       "    'thumbnails': {'default': {'url': 'https://i.ytimg.com/vi/FsSrzmRawUg/default.jpg',\n",
       "      'width': 120,\n",
       "      'height': 90},\n",
       "     'medium': {'url': 'https://i.ytimg.com/vi/FsSrzmRawUg/mqdefault.jpg',\n",
       "      'width': 320,\n",
       "      'height': 180},\n",
       "     'high': {'url': 'https://i.ytimg.com/vi/FsSrzmRawUg/hqdefault.jpg',\n",
       "      'width': 480,\n",
       "      'height': 360}},\n",
       "    'channelTitle': 'Steve Brunton',\n",
       "    'liveBroadcastContent': 'none',\n",
       "    'publishTime': '2019-06-06T05:19:06Z'}}]}"
      ]
     },
     "execution_count": 44,
     "metadata": {},
     "output_type": "execute_result"
    }
   ],
   "source": [
    "response"
   ]
  },
  {
   "cell_type": "code",
   "execution_count": 40,
   "id": "5cc86f02",
   "metadata": {},
   "outputs": [
    {
     "data": {
      "text/plain": [
       "dict_keys(['kind', 'etag', 'nextPageToken', 'regionCode', 'pageInfo', 'items'])"
      ]
     },
     "execution_count": 40,
     "metadata": {},
     "output_type": "execute_result"
    }
   ],
   "source": [
    "response.keys()"
   ]
  },
  {
   "cell_type": "code",
   "execution_count": 43,
   "id": "1ee58077",
   "metadata": {},
   "outputs": [
    {
     "data": {
      "text/plain": [
       "'youtube#searchListResponse'"
      ]
     },
     "execution_count": 43,
     "metadata": {},
     "output_type": "execute_result"
    }
   ],
   "source": [
    "response['kind']"
   ]
  },
  {
   "cell_type": "code",
   "execution_count": 6,
   "id": "2dcde85b",
   "metadata": {},
   "outputs": [
    {
     "name": "stdout",
     "output_type": "stream",
     "text": [
      "- What is Data Science?\n",
      "  Channel: IBM Technology\n",
      "- Intro to Data Science: What is Data Science?\n",
      "  Channel: Steve Brunton\n"
     ]
    }
   ],
   "source": [
    "for item in response['items']:\n",
    "    if item['id']['kind'] == 'youtube#video':\n",
    "        print(f\"- {item['snippet']['title']}\")\n",
    "        print(f\"  Channel: {item['snippet']['channelTitle']}\")"
   ]
  },
  {
   "cell_type": "code",
   "execution_count": 25,
   "id": "4f0c26b2",
   "metadata": {},
   "outputs": [
    {
     "name": "stdout",
     "output_type": "stream",
     "text": [
      "Not a dictionary: kind\n",
      "Not a dictionary: etag\n",
      "Not a dictionary: id\n",
      "Not a dictionary: snippet\n",
      "Not a dictionary: statistics\n"
     ]
    }
   ],
   "source": [
    "# for v in video:\n",
    "#     print(\"Keys in this video:\", list(v.keys()))\n",
    "\n",
    "for v in video:\n",
    "    if isinstance(v, dict):  # Check if 'v' is a dictionary\n",
    "        print(\"Keys in this video:\", list(v.keys()))\n",
    "    else:\n",
    "        print(\"Not a dictionary:\", v)"
   ]
  },
  {
   "cell_type": "code",
   "execution_count": 8,
   "id": "3dc4d9c8",
   "metadata": {},
   "outputs": [],
   "source": [
    "video_ids=[]\n",
    "for item in response['items']:\n",
    "    if item['id']['kind'] == 'youtube#video':\n",
    "        video_ids.append(item['id']['videoId'])\n",
    "\n",
    "request = youtube.videos().list(\n",
    "    part='snippet,statistics',\n",
    "    id=','.join(video_ids)\n",
    ")\n",
    "video_details=request.execute()\n",
    "videos_data=[]\n",
    "for video in video_details['items']:\n",
    "    video_info={\n",
    "        'id': video['id'],\n",
    "        'title': video['snippet']['title'],\n",
    "        'channel': video['snippet']['channelTitle'],\n",
    "        'views': video['statistics']['viewCount'],\n",
    "        'likes': video['statistics']['likeCount'],\n",
    "        'comments': video['statistics']['commentCount']\n",
    "        # 'duration': video['contentDetails']['duration'] \n",
    "    }\n",
    "    videos_data.append(video_info)\n",
    "    "
   ]
  },
  {
   "cell_type": "code",
   "execution_count": 11,
   "id": "fc0bd2d1",
   "metadata": {},
   "outputs": [],
   "source": [
    "with open('../data/raw/sample_videos.json', 'w') as f:\n",
    "    json.dump(videos_data, f, indent=2)"
   ]
  },
  {
   "cell_type": "code",
   "execution_count": 13,
   "id": "e262bae0",
   "metadata": {},
   "outputs": [
    {
     "data": {
      "text/plain": [
       "'UCKWaEZ-_VweaEx1j62do_vQ'"
      ]
     },
     "execution_count": 13,
     "metadata": {},
     "output_type": "execute_result"
    }
   ],
   "source": [
    "channel_id = video_details['items'][0]['snippet']['channelId']\n",
    "channel_id"
   ]
  },
  {
   "cell_type": "code",
   "execution_count": 15,
   "id": "f3e33282",
   "metadata": {},
   "outputs": [
    {
     "data": {
      "text/plain": [
       "{'viewCount': '83562291',\n",
       " 'subscriberCount': '1300000',\n",
       " 'hiddenSubscriberCount': False,\n",
       " 'videoCount': '1360'}"
      ]
     },
     "execution_count": 15,
     "metadata": {},
     "output_type": "execute_result"
    }
   ],
   "source": [
    "channel['statistics']"
   ]
  },
  {
   "cell_type": "code",
   "execution_count": 14,
   "id": "e078abe0",
   "metadata": {},
   "outputs": [
    {
     "name": "stdout",
     "output_type": "stream",
     "text": [
      "Channel: IBM Technology\n",
      "Subscribers: 1300000\n",
      "Total views: 83562291\n",
      "Video count: 1360\n"
     ]
    }
   ],
   "source": [
    "if video_ids:\n",
    "    # Get channel ID from first video\n",
    "    channel_id = video_details['items'][0]['snippet']['channelId']\n",
    "    \n",
    "    request = youtube.channels().list(\n",
    "        id=channel_id,\n",
    "        part='snippet,statistics'\n",
    "    )\n",
    "    channel_response = request.execute()\n",
    "    \n",
    "    if channel_response['items']:\n",
    "        channel = channel_response['items'][0]\n",
    "        print(f\"Channel: {channel['snippet']['title']}\")\n",
    "        print(f\"Subscribers: {channel['statistics'].get('subscriberCount', 'N/A')}\")\n",
    "        print(f\"Total views: {channel['statistics'].get('viewCount', 'N/A')}\")\n",
    "        print(f\"Video count: {channel['statistics'].get('videoCount', 'N/A')}\")"
   ]
  },
  {
   "cell_type": "code",
   "execution_count": 7,
   "id": "d412a293",
   "metadata": {},
   "outputs": [],
   "source": [
    "search_request = youtube.search().list(\n",
    "    q='data science',\n",
    "    part=\"snippet\",\n",
    "    maxResults=10,\n",
    "    type=\"video\"\n",
    ")\n",
    "search_response = search_request.execute()\n",
    "\n",
    "video_ids = []\n",
    "\n",
    "for item in search_response['items']:\n",
    "    if item['id']['kind'] == 'youtube#video':\n",
    "        video_ids.append(item['id']['videoId'])\n",
    "\n",
    "video_request = youtube.videos().list(\n",
    "    id=','.join(video_ids),\n",
    "    part=\"snippet,statistics\"\n",
    ")\n",
    "video_response = video_request.execute()\n",
    "\n",
    "videos_data = []\n",
    "for video in video_response.get('items', []):\n",
    "    video_info = {\n",
    "        'id': video['id'],\n",
    "        'title': video['snippet']['title'],\n",
    "        'description': video['snippet']['description'],\n",
    "        'published_at': video['snippet']['publishedAt'],\n",
    "        'views': video['statistics'].get('viewCount', 0),\n",
    "        'likes': video['statistics'].get('likeCount', 0),\n",
    "        'comments': video['statistics'].get('commentCount', 0),\n",
    "        # 'duration': video['contentDetails']['duration']\n",
    "    }\n",
    "    videos_data.append(video_info)\n"
   ]
  },
  {
   "cell_type": "code",
   "execution_count": 8,
   "id": "b0aeae40",
   "metadata": {},
   "outputs": [
    {
     "data": {
      "text/plain": [
       "[{'id': 'RBSUwFGa6Fk',\n",
       "  'title': 'What is Data Science?',\n",
       "  'description': 'Want a career in Data Science? Start here → https://ibm.biz/BdK65F\\nData Science touches almost every operation of a business. See how  → https://ibm.biz/BdPEfu\\n\\nData Science is the convergence of computer science, mathematics, and business expertise and helps entrepreneurs predict, diagnose, and solve their problems. Luv Aggarwal, a Data Solution Engineer at IBM, goes through the basics and explains how the discipline deploys data mining, data cleaning, machine learning and a variety of advanced analytics to yield actionable insights that will provide a roadmap for growth.  \\n\\nAI news moves fast. Sign up for a monthly newsletter for AI updates from IBM → https://ibm.biz/BdK65E\\n \\n#DataScience #BusinessSolutions #Lightboard #IBM #ComputerScience #Data #MachineLearning',\n",
       "  'published_at': '2022-06-13T12:00:14Z',\n",
       "  'views': '808254',\n",
       "  'likes': '17146',\n",
       "  'comments': '306'},\n",
       " {'id': 'FsSrzmRawUg',\n",
       "  'title': 'Intro to Data Science: What is Data Science?',\n",
       "  'description': \"This lecture provides an overview of the various components of data science, including data collection, cleaning, and curation, along with visualization, analysis, and machine learning (i.e. building models with data).  These will be some of the topics discussed in this lecture series.    \\n\\nBook website: http://databookuw.com/\\nSteve Brunton's website: eigensteve.com\\n\\nThis\\xa0video\\xa0was produced at the University of Washington, and we acknowledge funding support from the Boeing Company\",\n",
       "  'published_at': '2019-06-06T05:19:06Z',\n",
       "  'views': '126788',\n",
       "  'likes': '1831',\n",
       "  'comments': '48'},\n",
       " {'id': '9R3X0JoCLyU',\n",
       "  'title': 'The Complete Data Science Roadmap',\n",
       "  'description': 'Go from zero to a data scientist in 12 months. This step-by-step roadmap covers the essential skills you must learn to become a data scientist in 2024. \\n\\n❤️ Join this channel to get access to perks:\\nhttps://www.youtube.com/channel/UCWv7vMbMWH4-V0ZXdmDpPBA/join\\n\\nDownload the FREE roadmap PDF here: https://mosh.link/data-science-roadmap\\n\\n✋ Stay connected\\n\\n- Complete courses: https://codewithmosh.com\\n- Twitter: https://twitter.com/moshhamedani\\n- Facebook: https://www.facebook.com/programmingwithmosh/\\n- Instagram: https://www.instagram.com/codewithmosh.official/\\n- LinkedIn: https://www.linkedin.com/school/codewithmosh/\\n\\n📚 Tutorials \\n\\nhttps://youtu.be/_uQrJ0TkZlc?si=ZhlCrQs1SkaPNVa8\\nhttps://youtu.be/8JJ101D3knE?si=OGTuS35LQqSunuhh\\nhttps://youtu.be/BBpAmxU_NQo?si=dm-ZCPxVBYWS1Qhn\\nhttps://youtu.be/7S_tz1z_5bA?si=QL7s_M2Ao90RDwG8\\n\\n📖 Chapters\\n\\n00:00 - Introduction\\n00:24 - Programming Languages\\n00:45 - Version Control\\n01:05 - Data Structures & Algorithms \\n01:25 - SQL\\n02:08 - Mathematics & Statistics\\n02:30 - Data Handling and Visualization\\n03:19 - Machine Learning\\n04:01 - Deep Learning\\n04:35 - Specialization\\n05:24 - Big Data\\n\\n#datascience #machinelearning #ai #coding #programming',\n",
       "  'published_at': '2024-08-01T13:00:08Z',\n",
       "  'views': '466542',\n",
       "  'likes': '14831',\n",
       "  'comments': '364'},\n",
       " {'id': 'JL_grPUnXzY',\n",
       "  'title': 'What is Data Science? | Free Data Science Course | Data Science for Beginners | codebasics',\n",
       "  'description': \"We will understand what is data science by looking at simple restaurant business example. Data science is a process of getting insights from data. You don't have to be deep learning expert in order to do data science, you can do that in plain old microsoft excel also (if dataset is small enough). In recent years volume of data has grown too much so that data has become BIG DATA. Microsoft excel can't work with big data hence you need tools such as,\\n\\n#DataScience #WhatIsDataScience #DataScienceForBeginners #DataScientist #DataScienceTutorial #DataScienceWithPython #DataScienceCourse\\n\\n1) Apache hadoop and apache spark: For database storage and distributed computing\\n2) Python and R: For data science programming\\n3) Tableau, Power BI, Matplotlib, MATLAB, Jupyter Notebook: For data visualization\\n4) Sklearn, Deep Learning, Tensorflow, PyTorch: For deep learning and machine learning\\n\\nData scientist has become the most popular job in the market today and there is a huge career scope if you know how to do data science. Some of the use cases of data science in real life are,\\n\\n1) Healthcare: Diagnostic prediction and accuracy\\n2) Finance: Fraud detection, predictive analysis on loans, stock market movement, company future\\n3) Shipping: Figure out best route for shipping \\n4) E-commerce: Product recommendation, inventory pricing\\n\\nVery Simple Explanation Of Neural Network: https://www.youtube.com/watch?v=ER2It2mIagI\\n\\nForm to fill out your definition of data science (Fill free yo use innovative, poetic, funny language) https://forms.gle/ukkQKddkiwna1H1L7\\n\\nDo you want to learn technology from me? Check https://codebasics.io/?utm_source=description&utm_medium=yt&utm_campaign=description&utm_id=description for my affordable video courses.\\n\\n🌎 My Website For Video Courses: https://codebasics.io/?utm_source=description&utm_medium=yt&utm_campaign=description&utm_id=description\\n\\nNeed help building software or data analytics and AI solutions? My company https://www.atliq.com/ can help. Click on the Contact button on that website.\\n\\n#️⃣ Social Media #️⃣\\n🔗 Discord:  https://discord.gg/r42Kbuk\\n📸 Dhaval's Personal Instagram: https://www.instagram.com/dhavalsays/\\n📸 Codebasics Instagram: https://www.instagram.com/codebasicshub/\\n🔊 Facebook: https://www.facebook.com/codebasicshub\\n📱 Twitter: https://twitter.com/codebasicshub\\n📝 Linkedin (Personal): https://www.linkedin.com/in/dhavalsays/\\n📝 Linkedin (Codebasics):  https://www.linkedin.com/company/codebasics/\\n🔗 Patreon: https://www.patreon.com/codebasics?fan_landing=true\",\n",
       "  'published_at': '2019-12-10T03:47:20Z',\n",
       "  'views': '639139',\n",
       "  'likes': '8511',\n",
       "  'comments': '410'},\n",
       " {'id': 'dcXqhMqhZUo',\n",
       "  'title': 'Data Analytics vs Data Science',\n",
       "  'description': \"Explore analytics tools and solutions → https://ibm.biz/BdSPGc\\n\\nAre you interested in data science? And have you heard of data analytics, but aren't sure how they're different? In this video, Martin Keen explains that while data science and data analytics are often used interchangeably, they have distinct roles. In terms of job roles, he covers the tools and practices of data scientists and contrast them with those of data analysts.\\n\\n Get started for free on IBM Cloud → https://ibm.biz/sign-up-now\\n\\nSubscribe to see more videos like this in the future →\\xa0http://ibm.biz/subscribe-now\",\n",
       "  'published_at': '2023-11-08T12:00:38Z',\n",
       "  'views': '682285',\n",
       "  'likes': '13858',\n",
       "  'comments': '231'},\n",
       " {'id': 'X3paOmcrTjQ',\n",
       "  'title': 'Data Science In 5 Minutes | Data Science For Beginners | What Is Data Science? | Simplilearn',\n",
       "  'description': \"🔥Data Scientist Masters Program (Discount Code - YTBE15) - https://www.simplilearn.com/big-data-and-analytics/senior-data-scientist-masters-program-training?utm_campaign=X3paOmcrTjQ&utm_medium=DescriptionFirstFold&utm_source=Youtube\\n🔥Purdue - Professional Certificate in Data Science and Generative AI - https://www.simplilearn.com/pgp-data-science-certification-bootcamp-program?utm_campaign=X3paOmcrTjQ&utm_medium=DescriptionFirstFold&utm_source=Youtube\\n🔥Purdue - Professional Certificate in Data Science and Generative AI - https://www.simplilearn.com/pgp-data-science-certification-bootcamp-program?utm_campaign=X3paOmcrTjQ&utm_medium=DescriptionFirstFold&utm_source=Youtube\\n🔥Data Scientist Masters Program (Discount Code - YTBE15) - https://www.simplilearn.com/big-data-and-analytics/senior-data-scientist-masters-program-training?utm_campaign=X3paOmcrTjQ&utm_medium=DescriptionFirstFold&utm_source=Youtube\\n\\nThis What is Data Science Video will give you an idea of a life of Data Scientist. This Data Science for Beginners video will also explain the steps involved in the Data Science project, roles & salary offered to a Data Scientist. Data Science is basically dealing with unstructured and structured data. Data Science is a field that comprises of everything that is related to data cleansing, preparation, and data analysis.  \\n\\nBelow topics are explained in this Data Science tutorial:\\n\\n00:00 Introduction\\n00:10 Life of a Data Scientist\\nSteps in Data Science project\\n00:21 Understanding the business problem\\n00:37 Data acquisition\\n00:51 Data preparation\\n01:29 Exploratory data analysis\\n01:52 Data modeling\\n02:20 Visualization and communication\\n02:43 Deploy & maintenance\\n03:11 Roles offered to a Data Scientist\\n03:53 Salary of a Data Scientist\\n\\nTo learn more about Data Science, subscribe to our YouTube channel: https://www.youtube.com/user/Simplilearn?sub_confirmation=1\\n\\nDownload the Data Science career guide to explore and step into the exciting world of data, and follow the path towards your dream career: https://bit.ly/34ZGYRw\\n\\nWatch more videos on Data Science: https://www.youtube.com/watch?v=0gf5iLTbiQM&list=PLEiEAq2VkUUIEQ7ENKU5Gv0HpRDtOphC6\\n\\n#DataScience #WhatIsDataScience #DataScienceForBeginners #DataScientist #DataScienceTutorial #DataScienceWithPython #DataScienceWithR #DataScienceCourse  #BusinessAnalytics #DataScience101 #MachineLearning\\n\\n➡️ About Data Science Course in collaboration with IBM\\n\\nThis Data Science course in collaboration with IBM propels your career to become a data scientist. Gain expertise in in-demand skills like Python, SQL, Excel, Machine Learning, Tableau, generative AI, and more. Dive deep into data interpretation nuances, master Machine Learning, and enhance programming skills to elevate your Data Science career.\\n\\nKey Features\\n✅ Simplilearn's JobAssist helps you get noticed by top hiring companies\\n✅ Masterclasses from IBM experts\\n✅ Dedicated live sessions by faculty of industry experts\\n✅ Industry-recognized Data Scientist Master’s certificate from Simplilearn\\n✅ Industry-recognized IBM certifications for IBM courses\\n✅ Ask-Me-Anything (AMA) sessions with IBM leadership\\n✅ Capstone from 3 domains and 25+ projects\\n✅ Exclusive hackathons conducted by IBM\\n✅ Lifetime access to self-paced learning content\\n✅ Program crafted to initiate your journey as a Data Scientist\\n✅ Integrated labs for hands-on learning experience\\n\\nSkills Covered\\n✅ Generative AI\\n✅ Prompt Engineering\\n✅ ChatGPT\\n✅ Exploratory Data Analysis\\n✅ Descriptive Statistics\\n✅ Inferential Statistics\\n✅ Explainable AI\\n✅ Conversational AI\\n✅ Large Language Models\\n✅ Model Building and Finetuning\\n✅ Ensemble Learning\\n✅ Data Visualization\\n✅ Database Management\\n\\n👉 Learn More At: https://www.simplilearn.com/pgp-data-science-certification-bootcamp-program?utm_campaign=DataScienceScribe&utm_medium=Description&utm_source=youtube\\n\\n🔥🔥 Interested in Attending Live Classes? Call Us: IN - 18002127688 / US - +18445327688\",\n",
       "  'published_at': '2018-12-04T14:30:01Z',\n",
       "  'views': '4427568',\n",
       "  'likes': '62162',\n",
       "  'comments': '1101'},\n",
       " {'id': '-8A6SM7wDUo',\n",
       "  'title': 'Data Analyst vs Data Scientist | Difference between Data Analyst and Data Scientist | Must Watch',\n",
       "  'description': '🔥🔥Difference between Data Analyst and Data Scientist.🔥🔥\\n---------------------------------\\nData Analysts 🔥\\n----------------------------------\\n✅Data detectives.\\n✅Gather, process, and analyze large datasets.\\n✅Perform statistical analyses.\\n✅Goal: Uncover trends, correlations, and insights for business decisions.\\n--------------------------\\nData Scientists 🔥\\n---------------------------\\n✅Wizards of data.\\n✅Analyze data.\\n✅Develop algorithms and predictive models.\\n✅Goal: Forecast future trends by working with complex datasets.\\n\\n--------------------------\\nKey Differences🔥\\n----------------------------\\nData Analysts🔥\\n---------------------------\\n✅Analyze existing data.\\n✅Provide reports.\\n\\nData Scientists🔥\\n----------------------------\\n✅Forecast future trends.\\n✅Build predictive models.\\n✅Work with more complex datasets.\\n\\n---------------------------------------------------------\\nAnalytics Vidhya Community ❤️\\n---------------------------------------------------------\\nKnow More 🔗 https://bit.ly/4aoLGcK\\n\\n----------------------------------------\\nAdditional Resources 🔥\\n----------------------------------------\\n👉 Top 21 Python Interview Questions: https://youtu.be/IT9A6ZtR_9s\\n👉 AI Tools to Build Resume: https://youtu.be/VF2D9hEV1cE\\n👉 AI Tools to Build LinkedIn: https://youtu.be/nOUCLLem0-w\\n👉 AI Tools to Get Resume Shortlisted: https://youtu.be/igkPBqyRluA\\n👉 AI Tools to Build Cover Letter: https://youtu.be/qjyjdgw-SgQ\\n👉 AI Tools Crack Interviews: https://youtu.be/0DLIVyXEKhQ\\n👉 Data Analytics Interview Questions: https://youtu.be/PI1rTHLQ1ok\\n👉 Top 10 SQL Projects: https://youtu.be/BlatyOOia04\\n👉 Top ML Projects: https://youtube.com/shorts/4Py7JiW-d-8\\n\\n-----------\\nTags\\n-----------\\n#DataAnalystVsDataScientist\\n#DataAnalysis\\n#DataScience\\n#BusinessIntelligence\\n#DataDetectives\\n#PredictiveAnalytics\\n#StatisticalAnalysis\\n#TrendsAndCorrelations\\n#AlgorithmDevelopment\\n#FutureTrendForecasting\\n#DataWizard\\n#DataInsights\\n#DataRoles\\n#DataAnalytics\\n#DataScienceExplained\\n#BigData\\n#DataAnalysisSkills\\n#BusinessDecisions\\n#AnalyticsComparison\\n#TechDebate',\n",
       "  'published_at': '2024-01-21T15:00:00Z',\n",
       "  'views': '88640',\n",
       "  'likes': '2319',\n",
       "  'comments': '14'},\n",
       " {'id': 'ua-CiDNNj30',\n",
       "  'title': 'Learn Data Science Tutorial - Full Course for Beginners',\n",
       "  'description': 'Learn Data Science is this full tutorial course for absolute beginners. Data science is considered the \"sexiest job of the 21st century.\" You\\'ll learn the important elements of data science. You\\'ll be introduced to the principles, practices, and tools that make data science the powerful medium for critical insight in business and research. You\\'ll have a solid foundation for future learning and applications in your work. With data science, you can do what you want to do, and do it better. This course covers the foundations of data science, data sourcing, coding, mathematics, and statistics.\\n\\n💻 Course created by Barton Poulson from datalab.cc.\\n🔗 Check out the datalab.cc YouTube channel: https://www.youtube.com/user/datalabcc\\n🔗 Watch more free data science courses at http://datalab.cc/\\n\\n❤️ Try interactive Algorithms courses we love, right in your browser: https://scrimba.com/freeCodeCamp-Algorithms (Made possible by a grant from our friends at Scrimba)\\n\\n⭐️ Course Contents ⭐️\\n⌨️ Part 1: Data Science: An Introduction: Foundations of Data Science\\n  - Welcome (1.1)\\n  - Demand for Data Science (2.1)\\n  - The Data Science Venn Diagram (2.2)\\n  - The Data Science Pathway (2.3)\\n  - Roles in Data Science (2.4)\\n  - Teams in Data Science (2.5)\\n  - Big Data (3.1)\\n  - Coding (3.2)\\n  - Statistics (3.3)\\n  - Business Intelligence (3.4)\\n  - Do No Harm (4.1)\\n  - Methods Overview (5.1)\\n  - Sourcing Overview (5.2)\\n  - Coding Overview (5.3)\\n  - Math Overview (5.4)\\n  - Statistics Overview (5.5)\\n  - Machine Learning Overview (5.6)\\n  - Interpretability (6.1)\\n  - Actionable Insights (6.2)\\n  - Presentation Graphics (6.3)\\n  - Reproducible Research (6.4)\\n  - Next Steps (7.1)\\n    \\n⌨️ Part 2: Data Sourcing: Foundations of Data Science (1:39:46)\\n  - Welcome (1.1) \\n  - Metrics (2.1)\\n  - Accuracy (2.2)\\n  - Social Context of Measurement (2.3)\\n  - Existing Data (3.1)\\n  - APIs (3.2)\\n  - Scraping (3.3)\\n  - New Data (4.1)\\n  - Interviews (4.2)\\n  - Surveys (4.3)\\n  - Card Sorting (4.4)\\n  - Lab Experiments (4.5)\\n  - A/B Testing (4.6)\\n  - Next Steps (5.1)\\n\\n⌨️ Part 3: Coding (2:32:42)\\n  - Welcome (1.1)\\n  - Spreadsheets (2.1)\\n  - Tableau Public (2.2)\\n  - SPSS (2.3)\\n  - JASP (2.4)\\n  - Other Software (2.5)\\n  - HTML (3.1)\\n  - XML (3.2)\\n  - JSON (3.3)\\n  - R (4.1)\\n  - Python (4.2)\\n  - SQL (4.3)\\n  - C, C++, & Java (4.4)\\n  - Bash (4.5)\\n  - Regex (5.1)\\n  - Next Steps (6.1)\\n         \\n⌨️ Part 4: Mathematics (4:01:09)\\n  - Welcome (1.1)\\n  - Elementary Algebra (2.1)\\n  - Linear Algebra (2.2)\\n  - Systems of Linear Equations (2.3)\\n  - Calculus (2.4)\\n  - Calculus & Optimization (2.5)\\n  - Big O (3.1)\\n  - Probability (3.2)\\n          \\n⌨️ Part 5: Statistics (4:44:03)\\n  - Welcome (1.1)\\n  - Exploration Overview (2.1)\\n  - Exploratory Graphics (2.2)\\n  - Exploratory Statistics (2.3)\\n  - Descriptive Statistics (2.4)\\n  - Inferential Statistics (3.1)\\n  - Hypothesis Testing (3.2)\\n  - Estimation (3.3)\\n  - Estimators (4.1)\\n  - Measures of Fit (4.2)\\n  - Feature Selection (4.3)\\n  - Problems in Modeling (4.4)\\n  - Model Validation (4.5)\\n  - DIY (4.6)\\n  - Next Step (5.1)\\n\\n--\\n\\nLearn to code for free and get a developer job: https://www.freecodecamp.org\\n\\nRead hundreds of articles on programming: https://www.freecodecamp.org/news',\n",
       "  'published_at': '2019-05-30T12:48:19Z',\n",
       "  'views': '4070308',\n",
       "  'likes': '84727',\n",
       "  'comments': '1318'},\n",
       " {'id': 'snIT3KdONmY',\n",
       "  'title': 'Uniform Distribution | Stats For Data Science | Euron',\n",
       "  'description': \"Euron - https://euron.one/\\nResource Link : https://euron.one/learn/e57bddcc-03f1-4562-a2a6-723204756441?tab=Overview&activeLectureId=0f66bfd4-3698-4e16-8b57-029c2aa84c8c\\n\\nFor any queries or counseling, feel free to call or WhatsApp us at: +919110665931 / +919019065931\\n\\nIn this video, we explore the Uniform Distribution, a fundamental continuous probability distribution where every value within a given interval has an equal chance of occurring. You'll learn the theory behind the Uniform Distribution, including the PDF and CDF formulas, and see how it's used in real-life scenarios and simulations. We also walk through a complete Python implementation using NumPy and Matplotlib to visualize the distribution and understand its behavior. Whether you're a student, data science enthusiast, or stats beginner, this tutorial will help you grasp Uniform Distribution easily. Like, share, and subscribe for more in-depth statistics and Python content!\\n\\n\\nRoadmap for you : \\nAI /Data Science Pro Level Expert Roadmap - https://euron.one/roadmap/c9361831-c806-45e2-b65c-c3f4c6cd2fa4\\nNLP expert Roadmap - https://euron.one/roadmap/300bc526-ed55-42e3-9072-43aca6c3ba4f\\nData Analytics / Business Analytics Expert Roadmap - https://euron.one/roadmap/920278e8-e3c0-4763-a135-ebed66074853\\nBig Data / Data Engineering Expert Roadmap - https://euron.one/roadmap/98c8db49-2eab-44b7-8fba-7f2b2575ec83\\nComputer Vision Roadmap - https://euron.one/roadmap/d8281277-5cfd-4498-bbff-4135aa178897\\nDeep Learning Roadmap - https://euron.one/roadmap/1495a7ba-4297-4cc9-8d68-5460cafb90ca\\nGenerative AI Roadmap - https://euron.one/roadmap/2380f611-7475-4343-b7f7-22b765710604\\nMachine Learning Expert Roadmap - https://euron.one/roadmap/ff514391-328e-4863-b810-0a5c5db6a170\\n\\n\\nAndroid- https://play.google.com/store/apps/details?id=com.euron.one&hl=en\\nIOS - https://apps.apple.com/in/app/euron-your-learning-app/id6741360597\",\n",
       "  'published_at': '2025-07-31T10:30:35Z',\n",
       "  'views': '22',\n",
       "  'likes': '1',\n",
       "  'comments': '0'},\n",
       " {'id': 'PLVmp1V7kIY',\n",
       "  'title': '🔥Salary of Data Scientist in US | Simplilearn | #Shorts #Datascience',\n",
       "  'description': 'Curious about a career in data science? In this short, we dive into a quick Q&A with a data scientist to find out what they do, how to get started, and what kind of salary you can expect in the field!\\n\\nOur data scientist explains their role as working with large datasets, building predictive models, and discovering valuable insights to solve real-world problems. It’s all about math, stats, and mastering programming languages like Python and R. Plus, tools like TensorFlow and scikit-learn are essential for machine learning and AI projects.\\n\\nInterested in breaking into the field? Start by getting strong fundamentals in math and stats, learn programming, and work on your own projects to build your portfolio. Hackathons and conferences are great ways to stay updated and connect with others in the field.\\n\\nAnd what about the salary? In the US, entry-level data scientists typically make between $85,000 to $130,000 a year, with potential for even more in major cities like San Francisco or New York, where salaries can exceed $129,173.\\n\\nWatch the full video to learn more about this exciting and lucrative field!\\n\\n#DataScience #DataScientist #MachineLearning #Python #TensorFlow #CareerInTech #TechJobs #Salary #AI #BigData #Hackathons #LearnDataScience',\n",
       "  'published_at': '2024-09-12T13:55:19Z',\n",
       "  'views': '22069',\n",
       "  'likes': '606',\n",
       "  'comments': '0'}]"
      ]
     },
     "execution_count": 8,
     "metadata": {},
     "output_type": "execute_result"
    }
   ],
   "source": [
    "videos_data"
   ]
  },
  {
   "cell_type": "code",
   "execution_count": 10,
   "id": "a751456c",
   "metadata": {},
   "outputs": [],
   "source": [
    "import pandas as pd"
   ]
  },
  {
   "cell_type": "code",
   "execution_count": 14,
   "id": "5ebdb436",
   "metadata": {},
   "outputs": [
    {
     "data": {
      "text/html": [
       "<div>\n",
       "<style scoped>\n",
       "    .dataframe tbody tr th:only-of-type {\n",
       "        vertical-align: middle;\n",
       "    }\n",
       "\n",
       "    .dataframe tbody tr th {\n",
       "        vertical-align: top;\n",
       "    }\n",
       "\n",
       "    .dataframe thead th {\n",
       "        text-align: right;\n",
       "    }\n",
       "</style>\n",
       "<table border=\"1\" class=\"dataframe\">\n",
       "  <thead>\n",
       "    <tr style=\"text-align: right;\">\n",
       "      <th></th>\n",
       "      <th>id</th>\n",
       "      <th>title</th>\n",
       "      <th>description</th>\n",
       "      <th>published_at</th>\n",
       "      <th>views</th>\n",
       "      <th>likes</th>\n",
       "      <th>comments</th>\n",
       "    </tr>\n",
       "  </thead>\n",
       "  <tbody>\n",
       "    <tr>\n",
       "      <th>0</th>\n",
       "      <td>RBSUwFGa6Fk</td>\n",
       "      <td>What is Data Science?</td>\n",
       "      <td>Want a career in Data Science? Start here → ht...</td>\n",
       "      <td>2022-06-13T12:00:14Z</td>\n",
       "      <td>808254</td>\n",
       "      <td>17146</td>\n",
       "      <td>306</td>\n",
       "    </tr>\n",
       "    <tr>\n",
       "      <th>1</th>\n",
       "      <td>FsSrzmRawUg</td>\n",
       "      <td>Intro to Data Science: What is Data Science?</td>\n",
       "      <td>This lecture provides an overview of the vario...</td>\n",
       "      <td>2019-06-06T05:19:06Z</td>\n",
       "      <td>126788</td>\n",
       "      <td>1831</td>\n",
       "      <td>48</td>\n",
       "    </tr>\n",
       "    <tr>\n",
       "      <th>2</th>\n",
       "      <td>9R3X0JoCLyU</td>\n",
       "      <td>The Complete Data Science Roadmap</td>\n",
       "      <td>Go from zero to a data scientist in 12 months....</td>\n",
       "      <td>2024-08-01T13:00:08Z</td>\n",
       "      <td>466542</td>\n",
       "      <td>14831</td>\n",
       "      <td>364</td>\n",
       "    </tr>\n",
       "    <tr>\n",
       "      <th>3</th>\n",
       "      <td>JL_grPUnXzY</td>\n",
       "      <td>What is Data Science? | Free Data Science Cour...</td>\n",
       "      <td>We will understand what is data science by loo...</td>\n",
       "      <td>2019-12-10T03:47:20Z</td>\n",
       "      <td>639139</td>\n",
       "      <td>8511</td>\n",
       "      <td>410</td>\n",
       "    </tr>\n",
       "    <tr>\n",
       "      <th>4</th>\n",
       "      <td>dcXqhMqhZUo</td>\n",
       "      <td>Data Analytics vs Data Science</td>\n",
       "      <td>Explore analytics tools and solutions → https:...</td>\n",
       "      <td>2023-11-08T12:00:38Z</td>\n",
       "      <td>682285</td>\n",
       "      <td>13858</td>\n",
       "      <td>231</td>\n",
       "    </tr>\n",
       "    <tr>\n",
       "      <th>5</th>\n",
       "      <td>X3paOmcrTjQ</td>\n",
       "      <td>Data Science In 5 Minutes | Data Science For B...</td>\n",
       "      <td>🔥Data Scientist Masters Program (Discount Code...</td>\n",
       "      <td>2018-12-04T14:30:01Z</td>\n",
       "      <td>4427568</td>\n",
       "      <td>62162</td>\n",
       "      <td>1101</td>\n",
       "    </tr>\n",
       "    <tr>\n",
       "      <th>6</th>\n",
       "      <td>-8A6SM7wDUo</td>\n",
       "      <td>Data Analyst vs Data Scientist | Difference be...</td>\n",
       "      <td>🔥🔥Difference between Data Analyst and Data Sci...</td>\n",
       "      <td>2024-01-21T15:00:00Z</td>\n",
       "      <td>88640</td>\n",
       "      <td>2319</td>\n",
       "      <td>14</td>\n",
       "    </tr>\n",
       "    <tr>\n",
       "      <th>7</th>\n",
       "      <td>ua-CiDNNj30</td>\n",
       "      <td>Learn Data Science Tutorial - Full Course for ...</td>\n",
       "      <td>Learn Data Science is this full tutorial cours...</td>\n",
       "      <td>2019-05-30T12:48:19Z</td>\n",
       "      <td>4070308</td>\n",
       "      <td>84727</td>\n",
       "      <td>1318</td>\n",
       "    </tr>\n",
       "    <tr>\n",
       "      <th>8</th>\n",
       "      <td>snIT3KdONmY</td>\n",
       "      <td>Uniform Distribution | Stats For Data Science ...</td>\n",
       "      <td>Euron - https://euron.one/\\nResource Link : ht...</td>\n",
       "      <td>2025-07-31T10:30:35Z</td>\n",
       "      <td>22</td>\n",
       "      <td>1</td>\n",
       "      <td>0</td>\n",
       "    </tr>\n",
       "    <tr>\n",
       "      <th>9</th>\n",
       "      <td>PLVmp1V7kIY</td>\n",
       "      <td>🔥Salary of Data Scientist in US | Simplilearn ...</td>\n",
       "      <td>Curious about a career in data science? In thi...</td>\n",
       "      <td>2024-09-12T13:55:19Z</td>\n",
       "      <td>22069</td>\n",
       "      <td>606</td>\n",
       "      <td>0</td>\n",
       "    </tr>\n",
       "  </tbody>\n",
       "</table>\n",
       "</div>"
      ],
      "text/plain": [
       "            id                                              title  \\\n",
       "0  RBSUwFGa6Fk                              What is Data Science?   \n",
       "1  FsSrzmRawUg       Intro to Data Science: What is Data Science?   \n",
       "2  9R3X0JoCLyU                  The Complete Data Science Roadmap   \n",
       "3  JL_grPUnXzY  What is Data Science? | Free Data Science Cour...   \n",
       "4  dcXqhMqhZUo                     Data Analytics vs Data Science   \n",
       "5  X3paOmcrTjQ  Data Science In 5 Minutes | Data Science For B...   \n",
       "6  -8A6SM7wDUo  Data Analyst vs Data Scientist | Difference be...   \n",
       "7  ua-CiDNNj30  Learn Data Science Tutorial - Full Course for ...   \n",
       "8  snIT3KdONmY  Uniform Distribution | Stats For Data Science ...   \n",
       "9  PLVmp1V7kIY  🔥Salary of Data Scientist in US | Simplilearn ...   \n",
       "\n",
       "                                         description          published_at  \\\n",
       "0  Want a career in Data Science? Start here → ht...  2022-06-13T12:00:14Z   \n",
       "1  This lecture provides an overview of the vario...  2019-06-06T05:19:06Z   \n",
       "2  Go from zero to a data scientist in 12 months....  2024-08-01T13:00:08Z   \n",
       "3  We will understand what is data science by loo...  2019-12-10T03:47:20Z   \n",
       "4  Explore analytics tools and solutions → https:...  2023-11-08T12:00:38Z   \n",
       "5  🔥Data Scientist Masters Program (Discount Code...  2018-12-04T14:30:01Z   \n",
       "6  🔥🔥Difference between Data Analyst and Data Sci...  2024-01-21T15:00:00Z   \n",
       "7  Learn Data Science is this full tutorial cours...  2019-05-30T12:48:19Z   \n",
       "8  Euron - https://euron.one/\\nResource Link : ht...  2025-07-31T10:30:35Z   \n",
       "9  Curious about a career in data science? In thi...  2024-09-12T13:55:19Z   \n",
       "\n",
       "     views  likes comments  \n",
       "0   808254  17146      306  \n",
       "1   126788   1831       48  \n",
       "2   466542  14831      364  \n",
       "3   639139   8511      410  \n",
       "4   682285  13858      231  \n",
       "5  4427568  62162     1101  \n",
       "6    88640   2319       14  \n",
       "7  4070308  84727     1318  \n",
       "8       22      1        0  \n",
       "9    22069    606        0  "
      ]
     },
     "execution_count": 14,
     "metadata": {},
     "output_type": "execute_result"
    }
   ],
   "source": [
    "df = pd.DataFrame(videos_data)\n",
    "df.head(10)"
   ]
  },
  {
   "cell_type": "code",
   "execution_count": 13,
   "id": "7073da39",
   "metadata": {},
   "outputs": [
    {
     "data": {
      "text/plain": [
       "id              object\n",
       "title           object\n",
       "description     object\n",
       "published_at    object\n",
       "views           object\n",
       "likes           object\n",
       "comments        object\n",
       "dtype: object"
      ]
     },
     "execution_count": 13,
     "metadata": {},
     "output_type": "execute_result"
    }
   ],
   "source": [
    "df.dtypes"
   ]
  },
  {
   "cell_type": "code",
   "execution_count": 18,
   "id": "31b79db7",
   "metadata": {},
   "outputs": [],
   "source": [
    "from datetime import datetime"
   ]
  },
  {
   "cell_type": "code",
   "execution_count": 19,
   "id": "8319c4dd",
   "metadata": {},
   "outputs": [],
   "source": [
    "def save_to_json(data, filename=None):\n",
    "    if filename is None:\n",
    "        timestamp= datetime.now().strftime('%Y%m%d_%H%M%S')\n",
    "        filename = f\"../data/raw/youtube_data_{timestamp}.json\"\n",
    "\n",
    "    os.makedirs(os.path.dirname(filename), exist_ok=True)\n",
    "    with open(filename, 'w') as f:\n",
    "        json.dump(data, f, indent=2)"
   ]
  },
  {
   "cell_type": "code",
   "execution_count": 20,
   "id": "fe2f6e08",
   "metadata": {},
   "outputs": [],
   "source": [
    "save_to_json(videos_data)"
   ]
  },
  {
   "cell_type": "code",
   "execution_count": null,
   "id": "2a391761",
   "metadata": {},
   "outputs": [],
   "source": []
  }
 ],
 "metadata": {
  "kernelspec": {
   "display_name": ".venv",
   "language": "python",
   "name": "python3"
  },
  "language_info": {
   "codemirror_mode": {
    "name": "ipython",
    "version": 3
   },
   "file_extension": ".py",
   "mimetype": "text/x-python",
   "name": "python",
   "nbconvert_exporter": "python",
   "pygments_lexer": "ipython3",
   "version": "3.12.3"
  }
 },
 "nbformat": 4,
 "nbformat_minor": 5
}
